{
 "cells": [
  {
   "cell_type": "code",
   "execution_count": 1,
   "id": "303cd4dd",
   "metadata": {},
   "outputs": [],
   "source": [
    "body = [\n",
    "    \"the quick brown fox\",\n",
    "    \"the slow brown dog\",\n",
    "    \"the quick red dog\",\n",
    "    \"the lazy yellow fox\"\n",
    "]"
   ]
  },
  {
   "cell_type": "code",
   "execution_count": 2,
   "id": "987fef66",
   "metadata": {},
   "outputs": [],
   "source": [
    "from sklearn.feature_extraction.text import CountVectorizer\n",
    "\n",
    "vectorizer = CountVectorizer()\n",
    "# We transform our body into a bag of words\n",
    "bow = vectorizer.fit_transform(body)"
   ]
  },
  {
   "cell_type": "code",
   "execution_count": 4,
   "id": "0d1380a1",
   "metadata": {},
   "outputs": [
    {
     "data": {
      "text/plain": [
       "matrix([[1, 0, 1, 0, 1, 0, 0, 1, 0],\n",
       "        [1, 1, 0, 0, 0, 0, 1, 1, 0],\n",
       "        [0, 1, 0, 0, 1, 1, 0, 1, 0],\n",
       "        [0, 0, 1, 1, 0, 0, 0, 1, 1]], dtype=int64)"
      ]
     },
     "execution_count": 4,
     "metadata": {},
     "output_type": "execute_result"
    }
   ],
   "source": [
    "bow.todense()"
   ]
  },
  {
   "cell_type": "code",
   "execution_count": 5,
   "id": "58965131",
   "metadata": {},
   "outputs": [],
   "source": [
    "from sklearn.decomposition import TruncatedSVD\n",
    "\n",
    "svd = TruncatedSVD(n_components=2)\n",
    "lsa = svd.fit_transform(bow)"
   ]
  },
  {
   "cell_type": "code",
   "execution_count": 8,
   "id": "4d5f3863",
   "metadata": {},
   "outputs": [
    {
     "data": {
      "text/html": [
       "<div>\n",
       "<style scoped>\n",
       "    .dataframe tbody tr th:only-of-type {\n",
       "        vertical-align: middle;\n",
       "    }\n",
       "\n",
       "    .dataframe tbody tr th {\n",
       "        vertical-align: top;\n",
       "    }\n",
       "\n",
       "    .dataframe thead th {\n",
       "        text-align: right;\n",
       "    }\n",
       "</style>\n",
       "<table border=\"1\" class=\"dataframe\">\n",
       "  <thead>\n",
       "    <tr style=\"text-align: right;\">\n",
       "      <th></th>\n",
       "      <th>body</th>\n",
       "      <th>topic_1</th>\n",
       "      <th>topic_2</th>\n",
       "    </tr>\n",
       "  </thead>\n",
       "  <tbody>\n",
       "    <tr>\n",
       "      <th>0</th>\n",
       "      <td>the quick brown fox</td>\n",
       "      <td>1.694905</td>\n",
       "      <td>0.299524</td>\n",
       "    </tr>\n",
       "    <tr>\n",
       "      <th>1</th>\n",
       "      <td>the slow brown dog</td>\n",
       "      <td>1.515851</td>\n",
       "      <td>-0.769110</td>\n",
       "    </tr>\n",
       "    <tr>\n",
       "      <th>2</th>\n",
       "      <td>the quick red dog</td>\n",
       "      <td>1.515851</td>\n",
       "      <td>-0.769110</td>\n",
       "    </tr>\n",
       "    <tr>\n",
       "      <th>3</th>\n",
       "      <td>the lazy yellow fox</td>\n",
       "      <td>1.266186</td>\n",
       "      <td>1.440585</td>\n",
       "    </tr>\n",
       "  </tbody>\n",
       "</table>\n",
       "</div>"
      ],
      "text/plain": [
       "                  body   topic_1   topic_2\n",
       "0  the quick brown fox  1.694905  0.299524\n",
       "1   the slow brown dog  1.515851 -0.769110\n",
       "2    the quick red dog  1.515851 -0.769110\n",
       "3  the lazy yellow fox  1.266186  1.440585"
      ]
     },
     "metadata": {},
     "output_type": "display_data"
    }
   ],
   "source": [
    "import pandas as pd\n",
    "\n",
    "topic_encoded_df = pd.DataFrame(lsa, columns=[\"topic_1\", \"topic_2\"])\n",
    "topic_encoded_df[\"body\"] = body\n",
    "display(topic_encoded_df[[\"body\", \"topic_1\", \"topic_2\"]])"
   ]
  },
  {
   "cell_type": "code",
   "execution_count": 9,
   "id": "57e731f3",
   "metadata": {},
   "outputs": [
    {
     "name": "stderr",
     "output_type": "stream",
     "text": [
      "c:\\Users\\PC\\AppData\\Local\\Programs\\Python\\Python310\\lib\\site-packages\\sklearn\\utils\\deprecation.py:87: FutureWarning: Function get_feature_names is deprecated; get_feature_names is deprecated in 1.0 and will be removed in 1.2. Please use get_feature_names_out instead.\n",
      "  warnings.warn(msg, category=FutureWarning)\n"
     ]
    },
    {
     "data": {
      "text/plain": [
       "['brown', 'dog', 'fox', 'lazy', 'quick', 'red', 'slow', 'the', 'yellow']"
      ]
     },
     "execution_count": 9,
     "metadata": {},
     "output_type": "execute_result"
    }
   ],
   "source": [
    "# Vocabulary\n",
    "dictionnary = vectorizer.get_feature_names()\n",
    "dictionnary"
   ]
  },
  {
   "cell_type": "code",
   "execution_count": 11,
   "id": "137da074",
   "metadata": {},
   "outputs": [
    {
     "data": {
      "text/html": [
       "<div>\n",
       "<style scoped>\n",
       "    .dataframe tbody tr th:only-of-type {\n",
       "        vertical-align: middle;\n",
       "    }\n",
       "\n",
       "    .dataframe tbody tr th {\n",
       "        vertical-align: top;\n",
       "    }\n",
       "\n",
       "    .dataframe thead th {\n",
       "        text-align: right;\n",
       "    }\n",
       "</style>\n",
       "<table border=\"1\" class=\"dataframe\">\n",
       "  <thead>\n",
       "    <tr style=\"text-align: right;\">\n",
       "      <th></th>\n",
       "      <th>topic_1</th>\n",
       "      <th>topic_2</th>\n",
       "    </tr>\n",
       "  </thead>\n",
       "  <tbody>\n",
       "    <tr>\n",
       "      <th>brown</th>\n",
       "      <td>0.353937</td>\n",
       "      <td>-0.140256</td>\n",
       "    </tr>\n",
       "    <tr>\n",
       "      <th>dog</th>\n",
       "      <td>0.334199</td>\n",
       "      <td>-0.459436</td>\n",
       "    </tr>\n",
       "    <tr>\n",
       "      <th>fox</th>\n",
       "      <td>0.326416</td>\n",
       "      <td>0.519736</td>\n",
       "    </tr>\n",
       "    <tr>\n",
       "      <th>lazy</th>\n",
       "      <td>0.139578</td>\n",
       "      <td>0.430274</td>\n",
       "    </tr>\n",
       "    <tr>\n",
       "      <th>quick</th>\n",
       "      <td>0.353937</td>\n",
       "      <td>-0.140256</td>\n",
       "    </tr>\n",
       "    <tr>\n",
       "      <th>red</th>\n",
       "      <td>0.167100</td>\n",
       "      <td>-0.229718</td>\n",
       "    </tr>\n",
       "    <tr>\n",
       "      <th>slow</th>\n",
       "      <td>0.167100</td>\n",
       "      <td>-0.229718</td>\n",
       "    </tr>\n",
       "    <tr>\n",
       "      <th>the</th>\n",
       "      <td>0.660615</td>\n",
       "      <td>0.060300</td>\n",
       "    </tr>\n",
       "    <tr>\n",
       "      <th>yellow</th>\n",
       "      <td>0.139578</td>\n",
       "      <td>0.430274</td>\n",
       "    </tr>\n",
       "  </tbody>\n",
       "</table>\n",
       "</div>"
      ],
      "text/plain": [
       "         topic_1   topic_2\n",
       "brown   0.353937 -0.140256\n",
       "dog     0.334199 -0.459436\n",
       "fox     0.326416  0.519736\n",
       "lazy    0.139578  0.430274\n",
       "quick   0.353937 -0.140256\n",
       "red     0.167100 -0.229718\n",
       "slow    0.167100 -0.229718\n",
       "the     0.660615  0.060300\n",
       "yellow  0.139578  0.430274"
      ]
     },
     "execution_count": 11,
     "metadata": {},
     "output_type": "execute_result"
    }
   ],
   "source": [
    "encoding_matrix = pd.DataFrame(svd.components_,\n",
    "                            index = ['topic_1', 'topic_2'],\n",
    "                            columns=dictionnary).T\n",
    "encoding_matrix"
   ]
  },
  {
   "cell_type": "code",
   "execution_count": null,
   "id": "f53629f7",
   "metadata": {},
   "outputs": [],
   "source": []
  }
 ],
 "metadata": {
  "kernelspec": {
   "display_name": "Python 3",
   "language": "python",
   "name": "python3"
  },
  "language_info": {
   "codemirror_mode": {
    "name": "ipython",
    "version": 3
   },
   "file_extension": ".py",
   "mimetype": "text/x-python",
   "name": "python",
   "nbconvert_exporter": "python",
   "pygments_lexer": "ipython3",
   "version": "3.10.0 (tags/v3.10.0:b494f59, Oct  4 2021, 19:00:18) [MSC v.1929 64 bit (AMD64)]"
  },
  "vscode": {
   "interpreter": {
    "hash": "e593ac106456af50ce7af38f9671c411b49d6cd90f9b885e167f0f594e09038c"
   }
  }
 },
 "nbformat": 4,
 "nbformat_minor": 5
}
