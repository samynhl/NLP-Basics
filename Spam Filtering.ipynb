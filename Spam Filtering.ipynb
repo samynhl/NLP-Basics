{
 "cells": [
  {
   "cell_type": "code",
   "execution_count": 1,
   "id": "9a9566e0",
   "metadata": {},
   "outputs": [],
   "source": [
    "import numpy as np\n",
    "import matplotlib.pyplot as plt\n",
    "import pandas as pd\n",
    "import string"
   ]
  },
  {
   "cell_type": "markdown",
   "id": "e9fa0814",
   "metadata": {},
   "source": [
    "### Read the data"
   ]
  },
  {
   "cell_type": "code",
   "execution_count": 2,
   "id": "c5167423",
   "metadata": {},
   "outputs": [],
   "source": [
    "#read dataset\n",
    "spam_df = pd.read_csv('archive/spam.csv', encoding=\"ISO-8859-1\")\n",
    "\n",
    "#subset and rename columns\n",
    "spam_df = spam_df[['v1', 'v2']]\n",
    "spam_df.rename(columns={'v1': 'spam', 'v2': 'text'}, inplace=True)\n",
    "\n",
    "#convert spam column to binary\n",
    "spam_df.spam = spam_df.spam.apply(lambda s: True if s=='spam' else False)\n",
    "\n",
    "#lowercase everything and remove punctuation\n",
    "spam_df.text = spam_df.text.apply(lambda t: t.lower().translate(str.maketrans('', '', string.punctuation)))\n",
    "\n",
    "#shuffle\n",
    "spam_df = spam_df.sample(frac=1)"
   ]
  },
  {
   "cell_type": "code",
   "execution_count": 8,
   "id": "5fad2dab",
   "metadata": {},
   "outputs": [
    {
     "data": {
      "text/plain": [
       "<bound method NDFrame.describe of        spam                                               text\n",
       "5415  False  you should get more chicken broth if you want ...\n",
       "5006  False                         oh k  i will come tomorrow\n",
       "393   False  yes i think so i am in office but my lap is in...\n",
       "4343  False     hidid you asked to waheeda fathima about leave\n",
       "5412  False  gr8 so how do you handle the victoria island t...\n",
       "...     ...                                                ...\n",
       "4246   True  text pass to 69669 to collect your polyphonic ...\n",
       "228   False  life is more strict than teacher bcoz teacher ...\n",
       "1400  False  no i decided that only people who care about s...\n",
       "4712  False  big brotherû÷s really scraped the barrel with...\n",
       "5301  False                at what time should i come tomorrow\n",
       "\n",
       "[5572 rows x 2 columns]>"
      ]
     },
     "execution_count": 8,
     "metadata": {},
     "output_type": "execute_result"
    }
   ],
   "source": [
    "spam_df.describe"
   ]
  },
  {
   "cell_type": "code",
   "execution_count": 6,
   "id": "8baa76fc",
   "metadata": {},
   "outputs": [
    {
     "name": "stdout",
     "output_type": "stream",
     "text": [
      "someone has contacted our dating service and entered your phone because they fancy you to find out who it is call from a landline 09111032124  pobox12n146tf150p\n",
      "-------\n",
      "cmon babe make me horny turn me on txt me your fantasy now babe  im hot sticky and need you now all replies cost å£150 2 cancel send stop\n",
      "-------\n",
      "great new offer  double mins  double txt on best orange tariffs and get latest camera phones 4 free call mobileupd8 free on 08000839402 now or 2stoptxt tcs\n",
      "-------\n",
      "how come it takes so little time for a child who is afraid of the dark to become a teenager who wants to stay out all night\n",
      "-------\n",
      "thanks 4 your continued support your question this week will enter u in2 our draw 4 å£100 cash name the new us president txt ans to 80082\n",
      "-------\n"
     ]
    }
   ],
   "source": [
    "# Get a glimpse on the spam like texts\n",
    "for t in spam_df[spam_df.spam == True].iloc[:5].text:\n",
    "    print(t)\n",
    "    print('-------')"
   ]
  },
  {
   "cell_type": "code",
   "execution_count": 9,
   "id": "38166f0e",
   "metadata": {},
   "outputs": [
    {
     "name": "stdout",
     "output_type": "stream",
     "text": [
      "you should get more chicken broth if you want ramen unless theres some i dont know about\n",
      "-------\n",
      "oh k  i will come tomorrow\n",
      "-------\n",
      "yes i think so i am in office but my lap is in room i think thats on for the last few days i didnt shut that down\n",
      "-------\n",
      "hidid you asked to waheeda fathima about leave\n",
      "-------\n",
      "gr8 so how do you handle the victoria island traffic plus whens the album due\n",
      "-------\n"
     ]
    }
   ],
   "source": [
    "# Get a glimpse on the not spam like texts\n",
    "for t in spam_df[spam_df.spam == False].iloc[:5].text:\n",
    "    print(t)\n",
    "    print('-------')"
   ]
  },
  {
   "cell_type": "code",
   "execution_count": 11,
   "id": "d5b9312e",
   "metadata": {},
   "outputs": [],
   "source": [
    "#get training set\n",
    "train_spam_df = spam_df.iloc[:int(len(spam_df)*0.7)]\n",
    "\n",
    "#get testing set\n",
    "test_spam_df = spam_df.iloc[int(len(spam_df)*0.7):]"
   ]
  },
  {
   "cell_type": "code",
   "execution_count": 12,
   "id": "84bbca71",
   "metadata": {},
   "outputs": [
    {
     "name": "stdout",
     "output_type": "stream",
     "text": [
      "0.13307692307692306\n"
     ]
    }
   ],
   "source": [
    "FRAC_SPAM_TEXTS = train_spam_df.spam.mean()\n",
    "print(FRAC_SPAM_TEXTS)"
   ]
  },
  {
   "cell_type": "markdown",
   "id": "779ab2cd",
   "metadata": {},
   "source": [
    "# Create Spam Bag of Words and Non-Spam Bag of Words"
   ]
  },
  {
   "cell_type": "code",
   "execution_count": 29,
   "id": "1d0a9633",
   "metadata": {},
   "outputs": [],
   "source": [
    "#get all words from spam and non-spam datasets\n",
    "train_spam_words = ' '.join(train_spam_df[train_spam_df.spam == True].text).split(' ')\n",
    "train_non_spam_words = ' '.join(train_spam_df[train_spam_df.spam == False].text).split(' ')\n",
    "# Why do we focus on the intersection :\n",
    "# If a word occurs in a spam text and not in a non spam message, it's a little bit difficult\n",
    "# for us to say whether it implies that it's a spam/non spam email\n",
    "common_words = set(train_spam_words).intersection(set(train_non_spam_words))"
   ]
  },
  {
   "cell_type": "code",
   "execution_count": 16,
   "id": "9f7eb5fe",
   "metadata": {},
   "outputs": [],
   "source": [
    "train_spam_bow = dict()\n",
    "for w in common_words:\n",
    "    train_spam_bow[w] = train_spam_words.count(w) / len(train_spam_words)"
   ]
  },
  {
   "cell_type": "code",
   "execution_count": 18,
   "id": "6dee4232",
   "metadata": {},
   "outputs": [],
   "source": [
    "train_non_spam_bow = dict()\n",
    "for w in common_words:\n",
    "    train_non_spam_bow[w] = train_non_spam_words.count(w) / len(train_non_spam_words)"
   ]
  },
  {
   "cell_type": "markdown",
   "id": "494f263e",
   "metadata": {},
   "source": [
    "# Predict the class of the email using the BOW representation"
   ]
  },
  {
   "cell_type": "code",
   "execution_count": 21,
   "id": "89538d82",
   "metadata": {},
   "outputs": [],
   "source": [
    "def predict_text(t, verbose=False):\n",
    "    #if some word doesnt appear in either spam or non-spam BOW, disregard it\n",
    "    valid_words = [w for w in t if w in train_spam_bow]\n",
    "    \n",
    "    #get the probabilities of each valid word showing up in spam and non-spam BOW\n",
    "    spam_probs = [train_spam_bow[w] for w in valid_words]\n",
    "    non_spam_probs = [train_non_spam_bow[w] for w in valid_words]\n",
    "    \n",
    "    #print probs if requested\n",
    "    if verbose:\n",
    "        data_df = pd.DataFrame()\n",
    "        data_df['word'] = valid_words\n",
    "        data_df['spam_prob'] = spam_probs\n",
    "        data_df['non_spam_prob'] = non_spam_probs\n",
    "        data_df['ratio'] = [s/n if n > 0 else np.inf for s,n in zip(spam_probs, non_spam_probs)]\n",
    "        print(data_df)\n",
    "     \n",
    "    #calculate spam score as sum of logs for all probabilities\n",
    "    spam_score = sum([np.log(p) for p in spam_probs]) + np.log(FRAC_SPAM_TEXTS)\n",
    "    \n",
    "    #calculate non-spam score as sum of logs for all probabilities\n",
    "    non_spam_score = sum([np.log(p) for p in non_spam_probs]) + np.log(1-FRAC_SPAM_TEXTS)\n",
    "    \n",
    "    #if verbose, report the two scores\n",
    "    if verbose:\n",
    "        print('Spam Score: %s'%spam_score)\n",
    "        print('Non-Spam Score: %s'%non_spam_score)\n",
    "   \n",
    "    #if spam score is higher, mark this as spam\n",
    "    return (spam_score >= non_spam_score)"
   ]
  },
  {
   "cell_type": "code",
   "execution_count": 22,
   "id": "0827a54b",
   "metadata": {},
   "outputs": [
    {
     "name": "stdout",
     "output_type": "stream",
     "text": [
      "     word  spam_prob  non_spam_prob      ratio\n",
      "0  urgent   0.003806       0.000041  91.920202\n",
      "1    call   0.020324       0.002981   6.817958\n",
      "2    this   0.005263       0.003540   1.486827\n",
      "3  number   0.001862       0.000973   1.914137\n",
      "Spam Score: -23.016991290509715\n",
      "Non-Spam Score: -28.62936041776485\n"
     ]
    },
    {
     "data": {
      "text/plain": [
       "True"
      ]
     },
     "execution_count": 22,
     "metadata": {},
     "output_type": "execute_result"
    }
   ],
   "source": [
    "predict_text('urgent call this number'.split(), verbose=True)"
   ]
  },
  {
   "cell_type": "code",
   "execution_count": 23,
   "id": "a13f0d62",
   "metadata": {},
   "outputs": [
    {
     "name": "stdout",
     "output_type": "stream",
     "text": [
      "      word  spam_prob  non_spam_prob     ratio\n",
      "0      hey   0.000243       0.001532  0.158574\n",
      "1       do   0.001377       0.005506  0.249983\n",
      "2      you   0.017166       0.026684  0.643319\n",
      "3     want   0.001700       0.002339  0.726916\n",
      "4       to   0.036275       0.022419  1.618053\n",
      "5       go   0.001781       0.003581  0.497416\n",
      "6        a   0.022348       0.015029  1.487016\n",
      "7    movie   0.000081       0.000269  0.300884\n",
      "8  tonight   0.000162       0.000766  0.211432\n",
      "Spam Score: -58.9672119502868\n",
      "Non-Spam Score: -50.53002048942636\n"
     ]
    },
    {
     "data": {
      "text/plain": [
       "False"
      ]
     },
     "execution_count": 23,
     "metadata": {},
     "output_type": "execute_result"
    }
   ],
   "source": [
    "predict_text('hey do you want to go a movie tonight'.split(), verbose=True)"
   ]
  },
  {
   "cell_type": "code",
   "execution_count": 24,
   "id": "20be3c33",
   "metadata": {},
   "outputs": [
    {
     "name": "stdout",
     "output_type": "stream",
     "text": [
      "        word  spam_prob  non_spam_prob      ratio\n",
      "0      offer   0.001377       0.000083  16.623866\n",
      "1        for   0.011093       0.007328   1.513772\n",
      "2  unlimited   0.000729       0.000041  17.601741\n",
      "3      money   0.000081       0.000766   0.105716\n",
      "4       call   0.020324       0.002981   6.817958\n",
      "5        now   0.010121       0.004099   2.469380\n",
      "Spam Score: -38.241110477633946\n",
      "Non-Spam Score: -43.037058871736974\n"
     ]
    },
    {
     "data": {
      "text/plain": [
       "True"
      ]
     },
     "execution_count": 24,
     "metadata": {},
     "output_type": "execute_result"
    }
   ],
   "source": [
    "predict_text('offer for unlimited money call now'.split(), verbose=True)"
   ]
  },
  {
   "cell_type": "code",
   "execution_count": 25,
   "id": "7a6b3e11",
   "metadata": {},
   "outputs": [
    {
     "name": "stdout",
     "output_type": "stream",
     "text": [
      "    word  spam_prob  non_spam_prob     ratio\n",
      "0    are   0.004534       0.005879  0.771281\n",
      "1    you   0.017166       0.026684  0.643319\n",
      "2     at   0.001457       0.005279  0.276106\n",
      "3  class   0.000162       0.000497  0.325958\n",
      "4    yet   0.000162       0.000642  0.252355\n",
      "Spam Score: -35.46528057480925\n",
      "Non-Spam Score: -29.10556299169752\n"
     ]
    },
    {
     "data": {
      "text/plain": [
       "False"
      ]
     },
     "execution_count": 25,
     "metadata": {},
     "output_type": "execute_result"
    }
   ],
   "source": [
    "predict_text('are you at class yet'.split(), verbose=True)"
   ]
  },
  {
   "cell_type": "code",
   "execution_count": 26,
   "id": "9f7c346f",
   "metadata": {},
   "outputs": [],
   "source": [
    "predictions = test_spam_df.text.apply(lambda t: predict_text(t.split()))"
   ]
  },
  {
   "cell_type": "code",
   "execution_count": 27,
   "id": "22f13b3b",
   "metadata": {},
   "outputs": [
    {
     "name": "stdout",
     "output_type": "stream",
     "text": [
      "Fraction Spam Correctly Detected: 0.8903508771929824\n"
     ]
    }
   ],
   "source": [
    "frac_spam_messages_correctly_detected = np.sum((predictions == True) & (test_spam_df.spam == True)) / np.sum(test_spam_df.spam == True)\n",
    "print('Fraction Spam Correctly Detected: %s'%frac_spam_messages_correctly_detected)"
   ]
  },
  {
   "cell_type": "code",
   "execution_count": 28,
   "id": "6ec8116a",
   "metadata": {},
   "outputs": [
    {
     "name": "stdout",
     "output_type": "stream",
     "text": [
      "Fraction Valid Messages Sent to Spam: 0.01592797783933518\n"
     ]
    }
   ],
   "source": [
    "frac_valid_sent_to_spam = np.sum((predictions == True) & (test_spam_df.spam == False)) / np.sum(test_spam_df.spam == False)\n",
    "print('Fraction Valid Messages Sent to Spam: %s'%frac_valid_sent_to_spam)"
   ]
  },
  {
   "cell_type": "code",
   "execution_count": null,
   "id": "4801de7d",
   "metadata": {},
   "outputs": [],
   "source": []
  }
 ],
 "metadata": {
  "kernelspec": {
   "display_name": "Python 3 (ipykernel)",
   "language": "python",
   "name": "python3"
  },
  "language_info": {
   "codemirror_mode": {
    "name": "ipython",
    "version": 3
   },
   "file_extension": ".py",
   "mimetype": "text/x-python",
   "name": "python",
   "nbconvert_exporter": "python",
   "pygments_lexer": "ipython3",
   "version": "3.10.0"
  }
 },
 "nbformat": 4,
 "nbformat_minor": 5
}
